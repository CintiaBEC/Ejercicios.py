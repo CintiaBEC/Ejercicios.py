{
  "nbformat": 4,
  "nbformat_minor": 0,
  "metadata": {
    "colab": {
      "name": "Ejercicio16NumPy.ipynb",
      "provenance": [],
      "collapsed_sections": []
    },
    "kernelspec": {
      "name": "python3",
      "display_name": "Python 3"
    },
    "language_info": {
      "name": "python"
    }
  },
  "cells": [
    {
      "cell_type": "code",
      "execution_count": 7,
      "metadata": {
        "colab": {
          "base_uri": "https://localhost:8080/",
          "height": 73
        },
        "id": "IxBz6AOCcFvR",
        "outputId": "e482d6c7-73c1-4ec5-ddbe-751d396dc31d"
      },
      "outputs": [
        {
          "output_type": "stream",
          "name": "stdout",
          "text": [
            "[10 11 12 13 14 15 16 17 18 19 20 21 22 23 24 25 26 27 28 29 30 31 32 33\n",
            " 34 35 36 37 38 39 40 41 42 43 44 45 46 47 48 49]\n"
          ]
        },
        {
          "output_type": "execute_result",
          "data": {
            "text/plain": [
              "' narray = np.array([])\\n\\nprint(primer_array) '"
            ],
            "application/vnd.google.colaboratory.intrinsic+json": {
              "type": "string"
            }
          },
          "metadata": {},
          "execution_count": 7
        }
      ],
      "source": [
        "''' Material consultado: https://colab.research.google.com/drive/1VeIV4nRie3xYXyEZ9X3-vr-fUEqQWcsp?usp=sharing#scrollTo=7XU-kQ6XktsB '''\n",
        "\n",
        "''' Ejercicio practico Nº 16 de NumPy: ''' #Crea un objeto ndarray con elementos del 10 al 49.\n",
        "\n",
        "# Primero tenemos que importar NumPy\n",
        "\n",
        "import numpy as np\n",
        "\n",
        "''' Consultando el material otorgado por el profesor a cargo del curso, utilizo una función que me ahorrará \n",
        "el tener que escribir cada objeto de la lista. '''\n",
        "\n",
        "# Uso de la función ---> 'arange(inicio,fin,salto). En este caso 'salto' lo omitimos o colocamos cero en su defecto.\n",
        "\n",
        "'''Recordamos que muchas de estas funciones se fundamentan en sus análogas de Py, por ende aquí, 'arange' omitirá el último elemento, por lo cual,\n",
        "si deseo que mi array contenga al elemento '49', el 'fin' lo seteo en 50 (el programa lo tomará como 50-1).''' # Esto ocurría en métodos de slicing en Py, con la función 'range'.\n",
        "\n",
        "ndarray = np.arange(10,50) \n",
        "\n",
        "print(ndarray)\n"
      ]
    }
  ]
}