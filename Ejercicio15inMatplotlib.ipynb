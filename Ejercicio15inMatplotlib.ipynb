{
  "nbformat": 4,
  "nbformat_minor": 0,
  "metadata": {
    "colab": {
      "name": "Ejercicio15.ipynb",
      "provenance": []
    },
    "kernelspec": {
      "name": "python3",
      "display_name": "Python 3"
    },
    "language_info": {
      "name": "python"
    }
  },
  "cells": [
    {
      "cell_type": "markdown",
      "source": [
        "Ejercicio 15\n",
        "# Escribir un programa que pregunte al usuario por las ventas de un rango de años y muestre por pantalla un diagrama de líneas con la evolución de las ventas."
      ],
      "metadata": {
        "id": "NG_xTfczzs48"
      }
    },
    {
      "cell_type": "code",
      "source": [
        "\"\"\" EJERCICIO 15 \"\"\"\n",
        "\n",
        "# Escribir un programa que pregunte al usuario por las ventas de un rango de años y muestre por pantalla un diagrama de líneas con la evolución de las ventas.\n",
        "\n",
        "# Importamos el modulo pyplot con el alias plt\n",
        "\n",
        "import matplotlib.pyplot as plt\n",
        "\n",
        "\"\"\" ENLACES CONSULTADOS \"\"\"\n",
        "#https://colab.research.google.com/github/asalber/aprendeconalf/blob/master/content/es/docencia/python/ejercicios/soluciones/matplotlib/ejercicio1.ipynb#scrollTo=Mmv7dhV70PUE\n",
        "#https://www.tutorialesprogramacionya.com/pythonya/detalleconcepto.php?punto=21&codigo=21&inicio=15\n",
        "#https://www.youtube.com/watch?v=ZlLUSI4UipI\n",
        "#https://matplotlib.org/stable/api/_as_gen/matplotlib.lines.Line2D.html#matplotlib.lines.Line2D\n",
        "#https://matplotlib.org/stable/api/markers_api.html\n",
        "\n",
        "\n",
        "# Creamos dos listas vacías para cada dato que el usuario introducirá\n",
        "\n",
        "años = []\n",
        "\n",
        "ventas = []\n",
        "\n",
        "# Sólo le pediré 3 años y sus ventas promedio respectivas, para ello usaré loop for\n",
        "# La idea es que asigne a cada año el promedio de ventas\n",
        "\n",
        "for num in range(3):\n",
        "\n",
        "    año = input('ingrese año correspondiente a venta:')\n",
        "\n",
        "    años.append(año)\n",
        "\n",
        "    venta = input('ingrese valor promedio de venta de este año:')\n",
        "    \n",
        "    ventas.append([venta])\n",
        "\n",
        "for i in range(3):\n",
        "    print(años[i], ventas[i][0])\n",
        "\n",
        "# Imprimo las listas para que me de dos listas que se correlacionen elemento a elemento y la copio desde terminal\n",
        "\n",
        "print(años, ventas)\n",
        "\n",
        "#['2019', '2020', '2021'] [['5689'], ['6874'], ['9524']]\n"
      ],
      "metadata": {
        "id": "__9EptR6z7U1"
      },
      "execution_count": null,
      "outputs": []
    },
    {
      "cell_type": "code",
      "source": [
        "# Ahora con las listas armo el diagrama de lineas, siendo la primer lista la que corresponderá a eje 'x' y la segunda a eje 'y':\n",
        "\n",
        "#Llamaremos al método Line Plot para este gráfico y lo personalizaré o moriré en el intento\n",
        "\n",
        "años = ['2019', '2020', '2021']\n",
        "\n",
        "ventas = ['5689','6874','9524']\n",
        "\n",
        "plt.plot(años, ventas, marker=\"h\", linestyle=\"-\", color=\"turquoise\") \n",
        "\n",
        "#TÍtulo del gráfico\n",
        "plt.title(\"Promedio de ventas 2019-2021\")\n",
        "\n",
        "#Nombramos los ejes\n",
        "plt.xlabel(\"Años\")\n",
        "plt.ylabel(\"Promeio de ventas\")\n",
        "\n",
        "plt.figure(figsize=(1, 1000))\n",
        "plt.show()\n",
        "\n",
        "''' plt.plot(años, ventas, marker=\"o\", linestyle=\"solid\", color=\"aquamarine\") \n",
        "plt.show() '''\n"
      ],
      "metadata": {
        "colab": {
          "base_uri": "https://localhost:8080/",
          "height": 333
        },
        "id": "rp84PcrpRoZG",
        "outputId": "d06a7914-cfab-4698-c88b-3dfe92e570b0"
      },
      "execution_count": 31,
      "outputs": [
        {
          "output_type": "display_data",
          "data": {
            "text/plain": [
              "<Figure size 432x288 with 1 Axes>"
            ],
            "image/png": "[encoded data removed]"
          },
          "metadata": {
            "needs_background": "light"
          }
        },
        {
          "output_type": "display_data",
          "data": {
            "text/plain": [
              "<Figure size 72x72000 with 0 Axes>"
            ]
          },
          "metadata": {}
        },
        {
          "output_type": "execute_result",
          "data": {
            "text/plain": [
              "' plt.plot(años, ventas, marker=\"o\", linestyle=\"solid\", color=\"aquamarine\") \\nplt.show() '"
            ],
            "application/vnd.google.colaboratory.intrinsic+json": {
              "type": "string"
            }
          },
          "metadata": {},
          "execution_count": 31
        }
      ]
    }
  ]
}